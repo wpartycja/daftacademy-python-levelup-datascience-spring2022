{
 "cells": [
  {
   "cell_type": "markdown",
   "metadata": {},
   "source": [
    "Ile wynosi liczba $6.0*10^{24} + 1000$ według pythona?"
   ]
  },
  {
   "cell_type": "code",
   "execution_count": 35,
   "metadata": {},
   "outputs": [
    {
     "data": {
      "text/plain": [
       "6e+24"
      ]
     },
     "execution_count": 35,
     "metadata": {},
     "output_type": "execute_result"
    }
   ],
   "source": [
    "6.0*10**24 + 1000"
   ]
  },
  {
   "cell_type": "markdown",
   "metadata": {},
   "source": [
    "W jaki sposób z wektora x można wybrać elementy pomiędzy $10$ a $42$?"
   ]
  },
  {
   "cell_type": "code",
   "execution_count": 36,
   "metadata": {},
   "outputs": [],
   "source": [
    "import numpy as np"
   ]
  },
  {
   "cell_type": "code",
   "execution_count": 37,
   "metadata": {},
   "outputs": [
    {
     "data": {
      "text/plain": [
       "array([ 3, 10, 14,  6, 44, 67, 34, 27, 88])"
      ]
     },
     "execution_count": 37,
     "metadata": {},
     "output_type": "execute_result"
    }
   ],
   "source": [
    "x = np.array([3, 10, 14, 6, 44, 67, 34, 27, 88])\n",
    "x"
   ]
  },
  {
   "cell_type": "code",
   "execution_count": 38,
   "metadata": {},
   "outputs": [
    {
     "data": {
      "text/plain": [
       "array([14, 34, 27])"
      ]
     },
     "execution_count": 38,
     "metadata": {},
     "output_type": "execute_result"
    }
   ],
   "source": [
    "x[(10 < x) & (42 > x)]"
   ]
  },
  {
   "cell_type": "code",
   "execution_count": 39,
   "metadata": {},
   "outputs": [
    {
     "data": {
      "text/plain": [
       "array([14, 34, 27])"
      ]
     },
     "execution_count": 39,
     "metadata": {},
     "output_type": "execute_result"
    }
   ],
   "source": [
    "x[(x > 10) & (x < 42)]"
   ]
  },
  {
   "cell_type": "markdown",
   "metadata": {},
   "source": [
    "Jaki jest dtype elementów arraya `x=np.array([1, 1.0, '1.0'])`?"
   ]
  },
  {
   "cell_type": "code",
   "execution_count": 40,
   "metadata": {},
   "outputs": [
    {
     "data": {
      "text/plain": [
       "array(['1', '1.0', '1.0'], dtype='<U32')"
      ]
     },
     "execution_count": 40,
     "metadata": {},
     "output_type": "execute_result"
    }
   ],
   "source": [
    "x = np.array([1, 1.0, '1.0'])\n",
    "x"
   ]
  },
  {
   "cell_type": "markdown",
   "metadata": {},
   "source": [
    "Ile wynosi wynik takiego działania (policz  w numpy)? <br/>\n",
    "$x*M*x^T = ?$"
   ]
  },
  {
   "cell_type": "code",
   "execution_count": 41,
   "metadata": {},
   "outputs": [
    {
     "data": {
      "text/plain": [
       "(array([[  1,  -2,   3,   4],\n",
       "        [ -2,   4,   6,   8],\n",
       "        [  3,   6,   8, -12],\n",
       "        [  4,   8, -10,  16]]),\n",
       " array([42,  1, 32, -5]))"
      ]
     },
     "execution_count": 41,
     "metadata": {},
     "output_type": "execute_result"
    }
   ],
   "source": [
    "M = np.array([[1, -2, 3, 4], [-2, 4, 6, 8], [3, 6, 8, -12], [4, 8, -10, 16]])\n",
    "x = np.array([42, 1, 32, -5])\n",
    "M, x"
   ]
  },
  {
   "cell_type": "code",
   "execution_count": 42,
   "metadata": {},
   "outputs": [
    {
     "data": {
      "text/plain": [
       "20400"
      ]
     },
     "execution_count": 42,
     "metadata": {},
     "output_type": "execute_result"
    }
   ],
   "source": [
    "np.matmul(np.matmul(x, M), x.transpose())"
   ]
  },
  {
   "cell_type": "markdown",
   "metadata": {},
   "source": [
    "Ile wynosi całka oznaczona (pole pod wykresem) od $-2$ do $2$ z funkcji $f(x) = exp(-x^2)$? Wynik podaj z dwoma miejscami po przecinku. Do obliczeń wykorzystaj tzw. symulację Monte Carlo. Wykonaj 10_000_000 symulacji. Pomoc patrz koniec prezentacji."
   ]
  },
  {
   "cell_type": "code",
   "execution_count": 34,
   "metadata": {},
   "outputs": [
    {
     "name": "stdout",
     "output_type": "stream",
     "text": [
      "1.76\n"
     ]
    }
   ],
   "source": [
    "import random\n",
    "\n",
    "\n",
    "def func(x):\n",
    "    return np.exp(-x**2)\n",
    "\n",
    "\n",
    "def monte_carlo(a, b, n):\n",
    "    \"\"\"\n",
    "    calculates integral using Monte-Carlo method\n",
    "    \"\"\"\n",
    "    sum = 0\n",
    "    for _ in range(n):\n",
    "        u = random.uniform(0, 1)\n",
    "        x_i = a + (b - a) * u\n",
    "        sum += func(x_i)\n",
    "    return ((b - a) / n) * sum\n",
    "\n",
    "\n",
    "if __name__ == \"__main__\":\n",
    "    a = -2\n",
    "    b = 2\n",
    "    results = []\n",
    "    given_n = 10_000_000\n",
    "\n",
    "    results = round(monte_carlo(a, b, given_n), 2)\n",
    "\n",
    "    print(results)"
   ]
  }
 ],
 "metadata": {
  "interpreter": {
   "hash": "f9816d392af9e1c3147a4bf390c0aa56820cf3b657fc955f259b2a5c8685fa20"
  },
  "kernelspec": {
   "display_name": "Python 3.10.4 ('daftacademy-ds')",
   "language": "python",
   "name": "python3"
  },
  "language_info": {
   "codemirror_mode": {
    "name": "ipython",
    "version": 3
   },
   "file_extension": ".py",
   "mimetype": "text/x-python",
   "name": "python",
   "nbconvert_exporter": "python",
   "pygments_lexer": "ipython3",
   "version": "3.10.4"
  },
  "orig_nbformat": 4
 },
 "nbformat": 4,
 "nbformat_minor": 2
}
